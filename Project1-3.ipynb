{
 "cells": [
  {
   "cell_type": "code",
   "execution_count": 1,
   "metadata": {},
   "outputs": [],
   "source": [
    "# Insérez ici le numéro de votre équipe (mecbot'x')\n",
    "VOTRE_NUMERO_EQUIPE = \"xxx\" # 1-12\n",
    "VOTRE_NUMERO_DINGO = \"3\" # 1-8\n",
    "# modifier cette variable selon que vous contrôler la simulation ou le robot réel\n",
    "SIM = False"
   ]
  },
  {
   "cell_type": "code",
   "execution_count": 2,
   "metadata": {},
   "outputs": [
    {
     "name": "stdout",
     "output_type": "stream",
     "text": [
      "192.168.0.218\n"
     ]
    }
   ],
   "source": [
    "import socket\n",
    "def get_ip():\n",
    "    s = socket.socket(socket.AF_INET, socket.SOCK_DGRAM)\n",
    "    s.settimeout(0)\n",
    "    try:\n",
    "        s.connect(('192.168.0.254', 1))\n",
    "        IP = s.getsockname()[0]\n",
    "    except Exception:\n",
    "        IP = '127.0.0.1'\n",
    "    finally:\n",
    "        s.close()\n",
    "    return IP\n",
    "print(get_ip())"
   ]
  },
  {
   "cell_type": "code",
   "execution_count": 3,
   "metadata": {},
   "outputs": [],
   "source": [
    "# Import des paquets requis et configuration du ROS Master\n",
    "import sys\n",
    "sys.path.append('/opt/ros/noetic/lib/python3/dist-packages/')\n",
    "sys.path.append('/usr/lib/python3/dist-packages')\n",
    "from os import environ\n",
    "if SIM:\n",
    "    environ['ROS_MASTER_URI'] = \"http://localhost:11381/\"\n",
    "else:\n",
    "    environ['ROS_MASTER_URI'] = \"http://cpr-ets05-0{}.local:11311/\".format(VOTRE_NUMERO_DINGO)\n",
    "    environ['ROS_IP'] = get_ip()\n",
    "import rospy\n",
    "from std_msgs.msg import Float32MultiArray\n",
    "from jackal_msgs.msg import Drive\n",
    "from nav_msgs.msg import Odometry\n",
    "from geometry_msgs.msg import Pose\n",
    "from sensor_msgs.msg import Imu"
   ]
  },
  {
   "cell_type": "code",
   "execution_count": 4,
   "metadata": {},
   "outputs": [],
   "source": [
    "# Création d'un nouveau contenant ROSBAG (en écriture)\n",
    "import rosbag\n",
    "\n",
    "if SIM:\n",
    "    ros_bag = rosbag.Bag('sim_bag.bag', 'w')\n",
    "else:\n",
    "    ros_bag = rosbag.Bag('real_bag.bag', 'w')"
   ]
  },
  {
   "cell_type": "code",
   "execution_count": 5,
   "metadata": {},
   "outputs": [],
   "source": [
    "# Créer et démarrer un nouveau noeud\n",
    "rospy.init_node('dingo_controller', anonymous=True)"
   ]
  },
  {
   "cell_type": "code",
   "execution_count": 6,
   "metadata": {},
   "outputs": [],
   "source": [
    "# Wheel Position subscriber callback\n",
    "wheel_pose_msg = Pose()\n",
    "def wheel_pose_callback(msg):\n",
    "    global wheel_pose_msg\n",
    "    wheel_pose_msg  = msg.pose.pose"
   ]
  },
  {
   "cell_type": "code",
   "execution_count": 7,
   "metadata": {},
   "outputs": [],
   "source": [
    "# Camera Position subscriber callback\n",
    "cam_pose_msg = Pose()\n",
    "def cam_pose_callback(msg):\n",
    "    global cam_pose_msg\n",
    "    cam_pose_msg  = msg.pose.pose"
   ]
  },
  {
   "cell_type": "code",
   "execution_count": 8,
   "metadata": {},
   "outputs": [],
   "source": [
    "# IMU subscriber callback\n",
    "imu_msg = Imu()\n",
    "def imu_callback(msg):\n",
    "    global imu_msg\n",
    "    imu_msg = msg"
   ]
  },
  {
   "cell_type": "code",
   "execution_count": 9,
   "metadata": {},
   "outputs": [],
   "source": [
    "# ROS subscribers et publishers\n",
    "\n",
    "# SIM\n",
    "if SIM:\n",
    "    cmd_drive_pub_sim = rospy.Publisher('/mobile_manip/dingo_velocity_controller/cmd_drive', Drive, queue_size=1)\n",
    "    wheel_odom_sub_sim = rospy.Subscriber('mobile_manip/dingo_velocity_controller/odom', Odometry, wheel_pose_callback)\n",
    "    cam_odom_sub_sim = rospy.Subscriber('/mobile_manip/t265/odom/sample', Odometry, cam_pose_callback)\n",
    "    imu_sub_sim = rospy.Subscriber('/mobile_manip/imu/data', Imu, imu_callback)\n",
    "\n",
    "# Robot\n",
    "else:\n",
    "    cmd_drive_pub_robot = rospy.Publisher('/mobile_manip/base/dingo_velocity_controller/cmd_drive', Drive, queue_size=1)\n",
    "    wheel_odom_sub_robot = rospy.Subscriber('/mobile_manip/base/dingo_velocity_controller/odom', Odometry, wheel_pose_callback)\n",
    "    cam_odom_sub_robot = rospy.Subscriber('/mobile_manip/t265/odom/sample', Odometry, cam_pose_callback)\n",
    "    imu_sub_robot = rospy.Subscriber('/mobile_manip/base/imu/data', Imu, imu_callback)"
   ]
  },
  {
   "cell_type": "code",
   "execution_count": 10,
   "metadata": {},
   "outputs": [
    {
     "name": "stdout",
     "output_type": "stream",
     "text": [
      "Imu data: \n",
      "Orientation (quaternion):  -0.03148751729653795 -0.06499132636026336 0.9872700949227567 0.1417124674248705\n",
      "Angular velocity:  -0.0048203058540821075 0.000916631892323494 -0.8929851055145264\n",
      "Linear acceleration:  -0.4953858554363251 -1.2846405506134033 9.339807510375977\n",
      "\n",
      "Wheel Position:  1.244251385599183 -0.14847746686589774\n",
      "Camera Position:  0.2735408842563629 -1.0090152025222778\n"
     ]
    }
   ],
   "source": [
    "# Impression des valeurs IMU et des encodeurs - pour tester\n",
    "print(\"Imu data: \")\n",
    "print(\"Orientation (quaternion): \", \n",
    "    imu_msg.orientation.x, imu_msg.orientation.y, \n",
    "    imu_msg.orientation.z, imu_msg.orientation.w\n",
    ")\n",
    "print(\"Angular velocity: \", \n",
    "    imu_msg.angular_velocity.x, imu_msg.angular_velocity.y, \n",
    "    imu_msg.angular_velocity.z\n",
    ")\n",
    "print(\"Linear acceleration: \", \n",
    "    imu_msg.linear_acceleration.x, imu_msg.linear_acceleration.y, \n",
    "    imu_msg.linear_acceleration.z\n",
    ")\n",
    "print(\"\")\n",
    "print(\"Wheel Position: \", \n",
    "    wheel_pose_msg.position.x, wheel_pose_msg.position.y\n",
    ")\n",
    "print(\"Camera Position: \", \n",
    "    cam_pose_msg.position.x, cam_pose_msg.position.y\n",
    ")"
   ]
  },
  {
   "cell_type": "code",
   "execution_count": 11,
   "metadata": {},
   "outputs": [],
   "source": [
    "# Reprendre les dimensions du robot du projet1-2\n",
    "interwheel_distance = 0.3765\n",
    "left_wheel_radius = 0.098/2\n",
    "right_wheel_radius = 0.098/2"
   ]
  },
  {
   "cell_type": "code",
   "execution_count": 12,
   "metadata": {},
   "outputs": [],
   "source": [
    "# Déterminez les valeurs numériques de vitesse aux roues requises pour touner sur un cercle R=0.5m\n",
    "cmd_drive_msg = Drive()\n",
    "\n",
    "# Trouver les valeurs pour tourner sur un cercle de R=0.5m\n",
    "angular = 0.5\n",
    "linear = angular * 0.5\n",
    "\n",
    "# Reprendre les équations du projet1-2\n",
    "half_interwheel_distance = interwheel_distance / 2\n",
    "vel_left  = (linear - (angular * half_interwheel_distance)) / left_wheel_radius\n",
    "vel_right = (linear + (angular * half_interwheel_distance)) / right_wheel_radius\n",
    "\n",
    "\n",
    "cmd_drive_msg.drivers[0] = vel_left\n",
    "cmd_drive_msg.drivers[1] = vel_right\n",
    "\n",
    "# Envoi des commandes au roues par topic ROS\n",
    "if SIM:\n",
    "    cmd_drive_pub_sim.publish(cmd_drive_msg)\n",
    "else:\n",
    "    cmd_drive_pub_robot.publish(cmd_drive_msg)"
   ]
  },
  {
   "cell_type": "code",
   "execution_count": 13,
   "metadata": {},
   "outputs": [],
   "source": [
    "# Enregistrer la trajectoire pendant 20 secondes\n",
    "start = float(rospy.Time().now().secs)\n",
    "rate = rospy.Rate(50)\n",
    "while (float(rospy.Time().now().secs) - start) < 20:\n",
    "    ros_bag.write('/imu', imu_msg, rospy.Time().now())\n",
    "    ros_bag.write('/wheel_odom_pose', wheel_pose_msg, rospy.Time().now())\n",
    "    ros_bag.write('/camera_pose', cam_pose_msg, rospy.Time().now())\n",
    "    rate.sleep()"
   ]
  },
  {
   "cell_type": "code",
   "execution_count": 14,
   "metadata": {},
   "outputs": [],
   "source": [
    "# arrêter le robot\n",
    "cmd_drive_msg = Drive()\n",
    "cmd_drive_msg.drivers[0] = 0.0\n",
    "cmd_drive_msg.drivers[1] = 0.0\n",
    "\n",
    "# Envoi des commandes au roues par topic ROS\n",
    "if SIM:\n",
    "    cmd_drive_pub_sim.publish(cmd_drive_msg)\n",
    "else:\n",
    "    cmd_drive_pub_robot.publish(cmd_drive_msg)"
   ]
  },
  {
   "cell_type": "code",
   "execution_count": 15,
   "metadata": {},
   "outputs": [],
   "source": [
    "# fermer proprement le ROSBAG\n",
    "ros_bag.close()"
   ]
  }
 ],
 "metadata": {
  "kernelspec": {
   "display_name": "Python 3",
   "language": "python",
   "name": "python3"
  },
  "language_info": {
   "codemirror_mode": {
    "name": "ipython",
    "version": 3
   },
   "file_extension": ".py",
   "mimetype": "text/x-python",
   "name": "python",
   "nbconvert_exporter": "python",
   "pygments_lexer": "ipython3",
   "version": "3.8.10"
  },
  "vscode": {
   "interpreter": {
    "hash": "916dbcbb3f70747c44a77c7bcd40155683ae19c65e1c03b4aa3499c5328201f1"
   }
  }
 },
 "nbformat": 4,
 "nbformat_minor": 4
}
