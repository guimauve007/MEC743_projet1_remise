{
 "cells": [
  {
   "cell_type": "code",
   "execution_count": 9,
   "metadata": {},
   "outputs": [],
   "source": [
    "# Insérez ici le numéro de votre équipe (mecbot'x')\n",
    "VOTRE_NUMERO_EQUIPE = 11 # 1-12"
   ]
  },
  {
   "cell_type": "code",
   "execution_count": 10,
   "metadata": {},
   "outputs": [],
   "source": [
    "# Import des paquets requis et configuration du ROS Master\n",
    "import sys\n",
    "sys.path.append('/opt/ros/noetic/lib/python3/dist-packages/')\n",
    "sys.path.append('/usr/lib/python3/dist-packages')\n",
    "from os import environ\n",
    "environ['ROS_MASTER_URI'] = f\"http://localhost:11381/\"\n",
    "import rospy\n",
    "from jackal_msgs.msg import Drive"
   ]
  },
  {
   "cell_type": "markdown",
   "metadata": {},
   "source": [
    "### Configuration du script\n",
    "\n",
    "Ajoutez ici les valeurs géométriques du robot"
   ]
  },
  {
   "cell_type": "code",
   "execution_count": 11,
   "metadata": {},
   "outputs": [],
   "source": [
    "# Compléter les variables suivantes avec les dimensions du robot en [m]\n",
    "interwheel_distance = 0.3765\n",
    "left_wheel_radius = 0.098/2\n",
    "right_wheel_radius = 0.098/2"
   ]
  },
  {
   "cell_type": "code",
   "execution_count": 12,
   "metadata": {},
   "outputs": [],
   "source": [
    "# Créer et démarrer un nouveau noeud\n",
    "rospy.init_node('dingo_controller', anonymous=True)"
   ]
  },
  {
   "cell_type": "code",
   "execution_count": 13,
   "metadata": {},
   "outputs": [],
   "source": [
    "# ROS subscribers et publishers\n",
    "cmd_drive_pub = rospy.Publisher('/mobile_manip/dingo_velocity_controller/cmd_drive', Drive, queue_size=1)"
   ]
  },
  {
   "cell_type": "markdown",
   "metadata": {},
   "source": [
    "### Cinématique inverse"
   ]
  },
  {
   "cell_type": "code",
   "execution_count": 14,
   "metadata": {},
   "outputs": [],
   "source": [
    "# Calcule les commandes à envoyer à chaque moteur-roue selon le mouvement désiré\n",
    "def move_robot(linear, angular):\n",
    "\n",
    "    # Tâche 2\n",
    "    # Vous devez compléter ici avec la cinématique inverse en termes de vitesses\n",
    "    # c'est-à-dire obtenir les vitesses des roues à partir des vitesses angulaire (angular_vel) et linéaire (linear_vel) désirées\n",
    "    half_interwheel_distance = interwheel_distance / 2\n",
    "    vel_left  = (linear - (angular * half_interwheel_distance)) / left_wheel_radius\n",
    "    vel_right = (linear + (angular * half_interwheel_distance)) / right_wheel_radius\n",
    "\n",
    "    # Envoi des commandes au roues par topic ROS - ne pas modifier\n",
    "    cmd_drive_msg = Drive()\n",
    "\n",
    "    cmd_drive_msg.drivers[0] = vel_left\n",
    "    cmd_drive_msg.drivers[1] = vel_right\n",
    "\n",
    "    # Envoi des commandes au roues par topic ROS\n",
    "    cmd_drive_pub.publish(cmd_drive_msg)"
   ]
  },
  {
   "cell_type": "markdown",
   "metadata": {},
   "source": [
    "### Test et validation"
   ]
  },
  {
   "cell_type": "code",
   "execution_count": 15,
   "metadata": {},
   "outputs": [
    {
     "data": {
      "application/vnd.jupyter.widget-view+json": {
       "model_id": "fadb4e448e8b4befa1e5bca59446ed37",
       "version_major": 2,
       "version_minor": 0
      },
      "text/plain": [
       "FloatSlider(value=0.0, description='Linear velocity:', max=10.0, min=-10.0, step=0.01)"
      ]
     },
     "metadata": {},
     "output_type": "display_data"
    },
    {
     "data": {
      "application/vnd.jupyter.widget-view+json": {
       "model_id": "a87c64520df14e1996c25bcb3b8aa30e",
       "version_major": 2,
       "version_minor": 0
      },
      "text/plain": [
       "Output()"
      ]
     },
     "metadata": {},
     "output_type": "display_data"
    },
    {
     "data": {
      "application/vnd.jupyter.widget-view+json": {
       "model_id": "6c0f4ecd4db94a63b6ecd2f4b013b97d",
       "version_major": 2,
       "version_minor": 0
      },
      "text/plain": [
       "FloatSlider(value=0.0, description='Angular velocity:', max=5.0, min=-5.0, step=0.01)"
      ]
     },
     "metadata": {},
     "output_type": "display_data"
    },
    {
     "data": {
      "application/vnd.jupyter.widget-view+json": {
       "model_id": "7fcf3b04e5614a86bd2ad76a2b7146dc",
       "version_major": 2,
       "version_minor": 0
      },
      "text/plain": [
       "Output()"
      ]
     },
     "metadata": {},
     "output_type": "display_data"
    }
   ],
   "source": [
    "# Création d'une interface minimaliste pour valider la cinématique inverse - ne pas modifier\n",
    "import ipywidgets as widgets\n",
    "float_linear = widgets.FloatSlider(description='Linear velocity:', min=-10.0, max=10.0, step=0.01)\n",
    "float_angular = widgets.FloatSlider(description='Angular velocity:', min=-5.0, max=5.0, step=0.01)\n",
    "output_linear = widgets.Output()\n",
    "output_angular = widgets.Output()\n",
    "\n",
    "display(float_linear, output_linear)\n",
    "display(float_angular, output_angular)\n",
    "\n",
    "def on_value_change(change):\n",
    "    with output_linear:\n",
    "        linear = float_linear.value\n",
    "    with output_angular:\n",
    "        angular = float_angular.value\n",
    "    move_robot(linear, angular)\n",
    "\n",
    "float_linear.observe(on_value_change, names='value')\n",
    "float_angular.observe(on_value_change, names='value')\n",
    "\n",
    "#Ci-dessous des curseurs permettant d'envoyer immédiatement des valeurs de vitesse linéaire et angulaire au Jackal."
   ]
  },
  {
   "cell_type": "code",
   "execution_count": null,
   "metadata": {},
   "outputs": [],
   "source": []
  }
 ],
 "metadata": {
  "kernelspec": {
   "display_name": "Python 3",
   "language": "python",
   "name": "python3"
  },
  "language_info": {
   "codemirror_mode": {
    "name": "ipython",
    "version": 3
   },
   "file_extension": ".py",
   "mimetype": "text/x-python",
   "name": "python",
   "nbconvert_exporter": "python",
   "pygments_lexer": "ipython3",
   "version": "3.8.10"
  },
  "vscode": {
   "interpreter": {
    "hash": "916dbcbb3f70747c44a77c7bcd40155683ae19c65e1c03b4aa3499c5328201f1"
   }
  }
 },
 "nbformat": 4,
 "nbformat_minor": 4
}
